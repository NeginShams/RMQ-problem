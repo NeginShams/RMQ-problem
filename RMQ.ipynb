{
  "nbformat": 4,
  "nbformat_minor": 0,
  "metadata": {
    "colab": {
      "provenance": []
    },
    "kernelspec": {
      "name": "python3",
      "display_name": "Python 3"
    },
    "language_info": {
      "name": "python"
    }
  },
  "cells": [
    {
      "cell_type": "code",
      "source": [
        "from google.colab import drive\n",
        "drive.mount('/content/drive')"
      ],
      "metadata": {
        "colab": {
          "base_uri": "https://localhost:8080/"
        },
        "id": "cGhkZs8AtO0j",
        "outputId": "8ff41f93-7473-4e77-c53f-f2ca4661daa9"
      },
      "execution_count": null,
      "outputs": [
        {
          "output_type": "stream",
          "name": "stdout",
          "text": [
            "Mounted at /content/drive\n"
          ]
        }
      ]
    },
    {
      "cell_type": "code",
      "execution_count": null,
      "metadata": {
        "id": "jzYZ7lDaRZg8",
        "collapsed": true
      },
      "outputs": [],
      "source": [
        "import pickle\n",
        "import random\n",
        "\n",
        "from numpy import random\n",
        "\n",
        "\n",
        "a1 = random.randint(65536, size=(2**16))\n",
        "a2 = random.randint(131072, size=(2**17))\n",
        "\n",
        "with open('/content/drive/MyDrive/a1.pkl', 'wb') as f:\n",
        "  pickle.dump(a1, f)\n",
        "\n",
        "with open('/content/drive/MyDrive/a2.pkl', 'wb') as f:\n",
        "  pickle.dump(a2, f)"
      ]
    },
    {
      "cell_type": "markdown",
      "source": [
        "# Naive (Without preprocessing)"
      ],
      "metadata": {
        "id": "Z10Sgf-AENUE"
      }
    },
    {
      "cell_type": "code",
      "source": [
        "import numpy as np\n",
        "import time\n",
        "\n",
        "def range_minimum_query(arr, left, right):\n",
        "    if left < 0 or right >= len(arr) or left > right:\n",
        "        raise ValueError(\"Invalid range specified\")\n",
        "\n",
        "    minimum = arr[left]\n",
        "    for i in range(left + 1, right + 1):\n",
        "        if arr[i] < minimum:\n",
        "            minimum = arr[i]\n",
        "    return minimum\n",
        "\n",
        "\n",
        "s_time = time.time()\n",
        "\n",
        "print(\"Minimum value between i and j:\", range_minimum_query(arr, 0, 34000))\n",
        "\n",
        "e_time = time.time()\n",
        "\n",
        "print(e_time-s_time)"
      ],
      "metadata": {
        "id": "cBcPYkG3EVjz"
      },
      "execution_count": null,
      "outputs": []
    },
    {
      "cell_type": "markdown",
      "source": [
        "# **Naive** (Full Processing)"
      ],
      "metadata": {
        "id": "SUcUonl1EbJI"
      }
    },
    {
      "cell_type": "code",
      "source": [
        "import time\n",
        "\n",
        "with open('/content/drive/MyDrive/a2.pkl', 'rb') as f:\n",
        "  lst = pickle.load(f)\n",
        "\n",
        "count = 0\n",
        "n = len(lst)\n",
        "matrix = [[0]*n]*n\n",
        "\n",
        "start_time = time.time()\n",
        "\n",
        "for start in range(n):\n",
        "  for end in range(start + 1, n + 1):\n",
        "    sub_array = lst[start:end]\n",
        "    min = 0\n",
        "    for i in range(len(sub_array)):\n",
        "      if sub_array[i] < min:\n",
        "        min = sub_array[i]\n",
        "\n",
        "      matrix[start][end] = min\n",
        "    # count +=1\n",
        "\n",
        "end_time = time.time()\n",
        "print(\"--- %s seconds ---\" % (end_time - start_time))\n",
        "# print(count)"
      ],
      "metadata": {
        "id": "FBJs-sGdph9W"
      },
      "execution_count": null,
      "outputs": []
    },
    {
      "cell_type": "markdown",
      "source": [
        "# Dynamic Programming"
      ],
      "metadata": {
        "id": "ZP1axfyalJea"
      }
    },
    {
      "cell_type": "code",
      "source": [
        "import numpy as np\n",
        "\n",
        "with open('/content/drive/MyDrive/a2.pkl', 'rb') as f:\n",
        "  lst = pickle.load(f)\n",
        "\n",
        "n = len(lst)\n",
        "\n",
        "matrix = [[0]*n]*n\n",
        "\n",
        "for i in range(n):\n",
        "  matrix[i][i] = lst[i]\n",
        "\n",
        "matrix_np = np.array()\n",
        "\n",
        "diags = [matrix_np[::-1,:].diagonal(i) for i in range(-3,4)]\n",
        "diags.extend(matrix.diagonal(i) for i in range(3,-4,-1))\n",
        "print [n.tolist() for n in diags]"
      ],
      "metadata": {
        "id": "VZqcTtI7lJIi"
      },
      "execution_count": null,
      "outputs": []
    },
    {
      "cell_type": "code",
      "source": [
        "import numpy as np\n",
        "\n",
        "matrix = np.array(\n",
        "         [[-2,  5,  3,  2],\n",
        "          [ 9, -6,  5,  1],\n",
        "          [ 3,  2,  7,  3],\n",
        "          [-1,  8, -4,  8]])\n",
        "\n",
        "diags = [matrix[::-1,:].diagonal(i) for i in range(-3,4)]\n",
        "print(diags)\n",
        "print('------------')\n",
        "for i in range(3,-4,-1):\n",
        "  print(matrix.diagonal(i))\n",
        "print('------------')\n",
        "diags.extend(matrix.diagonal(i) for i in range(3,-4,-1))\n",
        "print([n.tolist() for n in diags])"
      ],
      "metadata": {
        "colab": {
          "base_uri": "https://localhost:8080/"
        },
        "id": "L2GHEk3w4Udr",
        "outputId": "efac4dfa-2253-4eaa-ce88-29902a9e5baa"
      },
      "execution_count": null,
      "outputs": [
        {
          "output_type": "stream",
          "name": "stdout",
          "text": [
            "[array([-2]), array([9, 5]), array([ 3, -6,  3]), array([-1,  2,  5,  2]), array([8, 7, 1]), array([-4,  3]), array([8])]\n",
            "------------\n",
            "[2]\n",
            "[3 1]\n",
            "[5 5 3]\n",
            "[-2 -6  7  8]\n",
            "[ 9  2 -4]\n",
            "[3 8]\n",
            "[-1]\n",
            "------------\n",
            "[[-2], [9, 5], [3, -6, 3], [-1, 2, 5, 2], [8, 7, 1], [-4, 3], [8], [2], [3, 1], [5, 5, 3], [-2, -6, 7, 8], [9, 2, -4], [3, 8], [-1]]\n"
          ]
        }
      ]
    },
    {
      "cell_type": "code",
      "source": [
        "x = np.arange(9).reshape((3,3))\n",
        "x"
      ],
      "metadata": {
        "colab": {
          "base_uri": "https://localhost:8080/"
        },
        "id": "SCwoc14d7tuA",
        "outputId": "c1fc704f-37ed-40fe-8964-24fc11938558"
      },
      "execution_count": null,
      "outputs": [
        {
          "output_type": "execute_result",
          "data": {
            "text/plain": [
              "array([[0, 1, 2],\n",
              "       [3, 4, 5],\n",
              "       [6, 7, 8]])"
            ]
          },
          "metadata": {},
          "execution_count": 8
        }
      ]
    },
    {
      "cell_type": "code",
      "source": [
        "np.diag(x, k=1)"
      ],
      "metadata": {
        "colab": {
          "base_uri": "https://localhost:8080/"
        },
        "id": "TTvmPBzP7vLS",
        "outputId": "9af68cc4-8e24-4a52-bd4e-0a83a96c14d6"
      },
      "execution_count": null,
      "outputs": [
        {
          "output_type": "execute_result",
          "data": {
            "text/plain": [
              "array([1, 5])"
            ]
          },
          "metadata": {},
          "execution_count": 11
        }
      ]
    },
    {
      "cell_type": "code",
      "source": [
        "import numpy as np\n",
        "\n",
        "def get_diagonal_indices(arr):\n",
        "    n_rows, n_cols = arr.shape\n",
        "    diagonal_indices = {}\n",
        "\n",
        "    # Loop through all possible offsets\n",
        "    for offset in range(-n_rows + 1, n_cols):\n",
        "        indices = np.diag_indices(min(n_rows, n_cols - offset))  # Get diagonal indices\n",
        "        diagonal_indices[offset] = [(i, j + offset) for i, j in zip(*indices)]\n",
        "\n",
        "    return diagonal_indices\n",
        "\n",
        "# example usage\n",
        "arr = np.array([[1, 2, 3],\n",
        "                [4, 5, 6],\n",
        "                [7, 8, 9]])\n",
        "\n",
        "diagonal_indices = get_diagonal_indices(arr)\n",
        "\n",
        "# Print indices for each diagonal\n",
        "for offset, indices in diagonal_indices.items():\n",
        "    print(f'Offset {offset}: {indices}')"
      ],
      "metadata": {
        "colab": {
          "base_uri": "https://localhost:8080/"
        },
        "id": "5POafZQD7hff",
        "outputId": "de3d18ff-6639-4fc3-d132-362b9152cbe9"
      },
      "execution_count": null,
      "outputs": [
        {
          "output_type": "stream",
          "name": "stdout",
          "text": [
            "Offset -2: [(0, -2), (1, -1), (2, 0)]\n",
            "Offset -1: [(0, -1), (1, 0), (2, 1)]\n",
            "Offset 0: [(0, 0), (1, 1), (2, 2)]\n",
            "Offset 1: [(0, 1), (1, 2)]\n",
            "Offset 2: [(0, 2)]\n"
          ]
        }
      ]
    },
    {
      "cell_type": "code",
      "source": [
        "import numpy as np\n",
        "import pickle\n",
        "import random\n",
        "import gc\n",
        "\n",
        "# with open('/content/drive/MyDrive/a2.pkl', 'rb') as f:\n",
        "#   lst = pickle.load(f)\n",
        "\n",
        "lst = random.sample(range(1,65537), 2**16)\n",
        "\n",
        "n = len(lst)\n",
        "\n",
        "matrix = [[0]*n]*n\n",
        "\n",
        "for i in range(n):\n",
        "  matrix[i][i] = lst[i]\n",
        "\n",
        "arr = np.array(matrix)\n",
        "\n",
        "# arr = np.array([[1, 2, 3],\n",
        "#                 [4, 5, 6],\n",
        "#                 [7, 8, 9]])\n",
        "\n",
        "n_rows, n_cols = arr.shape\n",
        "# diagonal_indices = {}\n",
        "# diags = {}\n",
        "\n",
        "# Loop through all possible offsets\n",
        "for offset in range(1, n_cols):\n",
        "  gc.collect()\n",
        "  indices = np.diag_indices(min(n_rows, n_cols - offset))  # Get diagonal indices\n",
        "  # print(indices)\n",
        "  # diagonal_indices[offset] = [(i, j + offset) for i, j in zip(*indices)]\n",
        "  diagonal_indices = [(i, j + offset) for i, j in zip(*indices)]\n",
        "  # print(diagonal_indices)\n",
        "  # diags[offset] = np.diag(arr, k=offset)\n",
        "  # print(diags)\n",
        "  # print('-------------------------')\n",
        "  del indices\n",
        "\n",
        "  for each in diagonal_indices:\n",
        "    gc.collect()\n",
        "    row_number = each[0]\n",
        "    col_number = each[1]\n",
        "    x = arr[row_number, col_number-1]\n",
        "    y = arr[row_number+1, col_number]\n",
        "    arr[each[0], each[1]] = min(x, y)\n",
        "  del indices, diagonal_indices\n",
        "\n",
        "# for each in diagonal_indices:\n",
        "#   print(type(each))\n",
        "# print(diagonal_indices)\n",
        "# print(diags)\n",
        "\n",
        "print(arr)"
      ],
      "metadata": {
        "id": "A0lHZHuK89Ct"
      },
      "execution_count": null,
      "outputs": []
    },
    {
      "cell_type": "code",
      "source": [
        "indices"
      ],
      "metadata": {
        "colab": {
          "base_uri": "https://localhost:8080/"
        },
        "id": "YWG7o8N6_zaK",
        "outputId": "b7861e11-61ac-4b51-965f-cee6589a985c"
      },
      "execution_count": null,
      "outputs": [
        {
          "output_type": "execute_result",
          "data": {
            "text/plain": [
              "(array([0]), array([0]))"
            ]
          },
          "metadata": {},
          "execution_count": 10
        }
      ]
    },
    {
      "cell_type": "code",
      "source": [
        "q = (1, 3)\n",
        "q[1]"
      ],
      "metadata": {
        "colab": {
          "base_uri": "https://localhost:8080/"
        },
        "id": "bILC1V7_an-8",
        "outputId": "1d3238ed-0c27-43f9-e18a-c45800bf388d"
      },
      "execution_count": null,
      "outputs": [
        {
          "output_type": "execute_result",
          "data": {
            "text/plain": [
              "3"
            ]
          },
          "metadata": {},
          "execution_count": 14
        }
      ]
    },
    {
      "cell_type": "code",
      "source": [
        "import numpy as np\n",
        "import random\n",
        "import gc\n",
        "\n",
        "lst = random.sample(range(1,65537), 2**16)\n",
        "\n",
        "n = len(lst)\n",
        "\n",
        "matrix = [[0]*n]*n\n",
        "\n",
        "for i in range(n):\n",
        "  matrix[i][i] = lst[i]\n",
        "\n",
        "arr = np.array(matrix)\n",
        "\n",
        "n_rows, n_cols = arr.shape\n",
        "\n",
        "# Loop through all possible offsets\n",
        "for offset in range(1, n_cols):\n",
        "  gc.collect()\n",
        "  indices = np.diag_indices(min(n_rows, n_cols - offset))  # Get diagonal indices\n",
        "  diagonal_indices = [(i, j + offset) for i, j in zip(*indices)]\n",
        "  del indices\n",
        "\n",
        "  for each in diagonal_indices:\n",
        "    gc.collect()\n",
        "    row_number = each[0]\n",
        "    col_number = each[1]\n",
        "    x = arr[row_number, col_number-1]\n",
        "    y = arr[row_number+1, col_number]\n",
        "    arr[each[0], each[1]] = min(x, y)\n",
        "  del indices, diagonal_indices\n",
        "\n",
        "\n",
        "\n",
        "print(arr)"
      ],
      "metadata": {
        "id": "25vFOioAuUW5"
      },
      "execution_count": null,
      "outputs": []
    },
    {
      "cell_type": "code",
      "source": [
        "import numpy as np\n",
        "import random\n",
        "import gc\n",
        "import time\n",
        "\n",
        "# lst = random.sample(range(1, 1000), 2**16)  # Be aware this creates a list of 65536 numbers\n",
        "\n",
        "# lst = np.random.randint(low = 1,high=100,size=35000)\n",
        "lst = np.random.randint(low = 1,high=100,size=2**14)\n",
        "n = len(lst)\n",
        "\n",
        "matrix = [[0 for _ in range(n)] for _ in range(n)]\n",
        "\n",
        "start_time = time.time()\n",
        "\n",
        "for i in range(n):\n",
        "    matrix[i][i] = lst[i]\n",
        "\n",
        "arr = np.array(matrix, dtype=np.int8)\n",
        "\n",
        "n_rows, n_cols = arr.shape\n",
        "\n",
        "for offset in range(1, n_cols):\n",
        "    # gc.collect()\n",
        "    indices = np.diag_indices(min(n_rows, n_cols - offset))  # Get diagonal indices\n",
        "    diagonal_indices = [(i, j + offset) for i, j in zip(*indices)]\n",
        "    # del indices\n",
        "\n",
        "    for each in diagonal_indices:\n",
        "        # gc.collect()\n",
        "        row_number = each[0]\n",
        "        col_number = each[1]\n",
        "        x = arr[row_number, col_number-1]\n",
        "        y = arr[row_number+1, col_number]\n",
        "        arr[each[0], each[1]] = min(x, y)\n",
        "    # del indices, diagonal_indices\n",
        "\n",
        "end_time = time.time()\n",
        "print(\"--- %s seconds ---\" % (end_time - start_time))\n",
        "\n",
        "print(arr)"
      ],
      "metadata": {
        "id": "zMu2KUBGvC_M",
        "colab": {
          "base_uri": "https://localhost:8080/"
        },
        "outputId": "57b50a3e-45ea-4419-a5ac-a2f45f608d00"
      },
      "execution_count": null,
      "outputs": [
        {
          "output_type": "stream",
          "name": "stdout",
          "text": [
            "--- 294.05405616760254 seconds ---\n",
            "[[26 26 26 ...  1  1  1]\n",
            " [ 0 91 27 ...  1  1  1]\n",
            " [ 0  0 27 ...  1  1  1]\n",
            " ...\n",
            " [ 0  0  0 ... 55 17 17]\n",
            " [ 0  0  0 ...  0 17 17]\n",
            " [ 0  0  0 ...  0  0 72]]\n"
          ]
        }
      ]
    },
    {
      "cell_type": "code",
      "source": [
        "s_time = time.time()\n",
        "arr[0][34000]\n",
        "e_time = time.time()\n",
        "print(\"Minimum value between indices 0 and 34000:\", arr[0][34000])\n",
        "print(e_time - s_time)"
      ],
      "metadata": {
        "colab": {
          "base_uri": "https://localhost:8080/"
        },
        "id": "D1S9o0dYKvz2",
        "outputId": "74ae78fe-5e50-4a89-ac80-020537717443"
      },
      "execution_count": null,
      "outputs": [
        {
          "output_type": "stream",
          "name": "stdout",
          "text": [
            "Minimum value between indices 0 and 34000: 1\n",
            "0.00013685226440429688\n"
          ]
        }
      ]
    },
    {
      "cell_type": "code",
      "source": [
        "2**16"
      ],
      "metadata": {
        "colab": {
          "base_uri": "https://localhost:8080/"
        },
        "id": "lSBvlOzA_TKr",
        "outputId": "3b87a5f8-d5e8-4143-d95c-8dc926b0b06e"
      },
      "execution_count": null,
      "outputs": [
        {
          "output_type": "execute_result",
          "data": {
            "text/plain": [
              "65536"
            ]
          },
          "metadata": {},
          "execution_count": 1
        }
      ]
    },
    {
      "cell_type": "code",
      "source": [
        "2**15"
      ],
      "metadata": {
        "colab": {
          "base_uri": "https://localhost:8080/"
        },
        "id": "7dLORNIiE2r4",
        "outputId": "92cc2db7-61df-4afe-9f26-5bfc4de9ff18"
      },
      "execution_count": null,
      "outputs": [
        {
          "output_type": "execute_result",
          "data": {
            "text/plain": [
              "32768"
            ]
          },
          "metadata": {},
          "execution_count": 1
        }
      ]
    },
    {
      "cell_type": "markdown",
      "source": [
        "# Block Decomposition"
      ],
      "metadata": {
        "id": "ETAsn764umWs"
      }
    },
    {
      "cell_type": "code",
      "source": [
        "def find_min(lst, minima_list , i, j):\n",
        "  start_block = int(i/b)\n",
        "  end_block = int(j/b)\n",
        "\n",
        "  i_complete_fit = False\n",
        "  j_complete_fit = False\n",
        "\n",
        "  if i == b * start_block:\n",
        "    first_whole_block = start_block\n",
        "    i_complete_fit = True\n",
        "  else:\n",
        "    first_whole_block = start_block + 1\n",
        "\n",
        "  if j == (b * (end_block+1)) -1:\n",
        "    last_whole_block = end_block\n",
        "    j_complete_fit = True\n",
        "  else:\n",
        "    last_whole_block = end_block - 1\n",
        "\n",
        "  min_value = min(minima_list[first_whole_block:last_whole_block+1])\n",
        "\n",
        "  if not i_complete_fit:\n",
        "    before_min = min(lst[i:b * (start_block+1)])\n",
        "    min_value = min(min_value, before_min)\n",
        "\n",
        "  if not j_complete_fit:\n",
        "    after_min = min(lst[b*end_block:j+1])\n",
        "    min_value = min(min_value, after_min)\n",
        "\n",
        "  return min_value\n"
      ],
      "metadata": {
        "id": "8j7g8pVsup1c"
      },
      "execution_count": null,
      "outputs": []
    },
    {
      "cell_type": "code",
      "source": [
        "import numpy as np\n",
        "import random\n",
        "import gc\n",
        "import time\n",
        "\n",
        "lst = np.random.randint(low = 1,high=1000,size=2**17)\n",
        "n = len(lst)\n",
        "\n",
        "b = 256\n",
        "minima_list = []\n",
        "\n",
        "s_time = time.time()\n",
        "for i in range(0, n, b):\n",
        "  minima = min(lst[i:i+b])\n",
        "  minima_list.append(minima)\n",
        "\n",
        "e_time = time.time()\n",
        "\n",
        "print(\"preprocess time:\", (e_time - s_time))\n",
        "\n",
        "start_time = time.time()\n",
        "min_val = find_min(lst , minima_list, i = 0, j = 34000)\n",
        "end_time = time.time()\n",
        "\n",
        "print(\"query time: \", (end_time - start_time))\n",
        "\n",
        "print(\"minimum_value:\", min_val)"
      ],
      "metadata": {
        "colab": {
          "base_uri": "https://localhost:8080/"
        },
        "id": "PcgyEGKiW57S",
        "outputId": "b417ff03-7d91-4722-d2b6-794cc141ddcf"
      },
      "execution_count": null,
      "outputs": [
        {
          "output_type": "stream",
          "name": "stdout",
          "text": [
            "preprocess time: 0.023359060287475586\n",
            "query time:  0.00020051002502441406\n",
            "minimum_value: 1\n"
          ]
        }
      ]
    },
    {
      "cell_type": "code",
      "source": [
        "e = 5\n",
        "b = 3\n",
        "print(int(e/b))"
      ],
      "metadata": {
        "colab": {
          "base_uri": "https://localhost:8080/"
        },
        "id": "QfY5C4rRCquP",
        "outputId": "dce9b009-7fc3-453c-8d9b-eb039dd81175"
      },
      "execution_count": null,
      "outputs": [
        {
          "output_type": "stream",
          "name": "stdout",
          "text": [
            "1\n"
          ]
        }
      ]
    },
    {
      "cell_type": "code",
      "source": [
        "import math\n",
        "import numpy as np\n",
        "import time\n",
        "\n",
        "# Initialize array and size\n",
        "# arr = [1, 3, 2, 7, 9, 11]\n",
        "arr = np.random.randint(low = 1,high=1000,size=2**16)\n",
        "n = len(arr)\n",
        "\n",
        "s_time = time.time()\n",
        "# Compute the log values\n",
        "log = [0] * (n + 1)\n",
        "for i in range(2, n + 1):\n",
        "    log[i] = log[i // 2] + 1\n",
        "\n",
        "# Initialize Sparse Table\n",
        "K = log[n] + 1  # Maximum j\n",
        "st = [[0] * K for _ in range(n)]\n",
        "\n",
        "# Fill the first column of Sparse Table\n",
        "for i in range(n):\n",
        "    st[i][0] = arr[i]\n",
        "\n",
        "# Fill the Sparse Table\n",
        "for j in range(1, K):\n",
        "    i = 0\n",
        "    while i + (1 << j) - 1 < n:\n",
        "        st[i][j] = min(st[i][j - 1], st[i + (1 << (j - 1))][j - 1])\n",
        "        i += 1\n",
        "\n",
        "e_time = time.time()\n",
        "\n",
        "print('Preprocess Time: ', (e_time - s_time))"
      ],
      "metadata": {
        "colab": {
          "base_uri": "https://localhost:8080/"
        },
        "id": "6x2m69a05WrQ",
        "outputId": "c7a014f3-e2cc-46f5-cf9d-570141f1135c"
      },
      "execution_count": null,
      "outputs": [
        {
          "output_type": "stream",
          "name": "stdout",
          "text": [
            "Preprocess Time:  0.7853639125823975\n"
          ]
        }
      ]
    },
    {
      "cell_type": "code",
      "source": [
        "def range_min_query(L, R):\n",
        "    j = log[R - L + 1]\n",
        "    return min(st[L][j], st[R - (1 << j) + 1][j])\n",
        "\n",
        "# Example query\n",
        "L, R = 0, 34000  # Find the minimum in the range from index 1 to index 4\n",
        "\n",
        "start_time = time.time()\n",
        "result = range_min_query(L, R)\n",
        "end_time = time.time()\n",
        "\n",
        "print('Preprocess Time: ', (e_time - s_time))\n",
        "print(\"Query Time: \", (end_time - start_time))\n",
        "print(\"Minimum value: \", result)  # Output: 2"
      ],
      "metadata": {
        "colab": {
          "base_uri": "https://localhost:8080/"
        },
        "id": "IXXGb8oB5cVy",
        "outputId": "94ed238c-0e0f-4d2a-9e12-1a3a6070ac7c"
      },
      "execution_count": null,
      "outputs": [
        {
          "output_type": "stream",
          "name": "stdout",
          "text": [
            "Preprocess Time:  0.7853639125823975\n",
            "Query Time:  0.00011968612670898438\n",
            "Minimum value:  1\n"
          ]
        }
      ]
    },
    {
      "cell_type": "markdown",
      "source": [
        "# Hybrid Method"
      ],
      "metadata": {
        "id": "-_6oY8NEVlHo"
      }
    },
    {
      "cell_type": "code",
      "source": [
        "def sparse_table(arr, L, R):\n",
        "  n = len(arr)\n",
        "  # Compute the log values\n",
        "  log = [0] * (n + 1)\n",
        "  for i in range(2, n + 1):\n",
        "      log[i] = log[i // 2] + 1\n",
        "\n",
        "  # Initialize Sparse Table\n",
        "  K = log[n] + 1  # Maximum j\n",
        "  st = [[0] * K for _ in range(n)]\n",
        "\n",
        "  # Fill the first column of Sparse Table\n",
        "  for i in range(n):\n",
        "      st[i][0] = arr[i]\n",
        "\n",
        "  # Fill the Sparse Table\n",
        "  for j in range(1, K):\n",
        "      i = 0\n",
        "      while i + (1 << j) - 1 < n:\n",
        "          st[i][j] = min(st[i][j - 1], st[i + (1 << (j - 1))][j - 1])\n",
        "          i += 1\n",
        "\n",
        "  j = log[R - L + 1]\n",
        "  return min(st[L][j], st[R - (1 << j) + 1][j])"
      ],
      "metadata": {
        "id": "TmQqi4KUVka2"
      },
      "execution_count": null,
      "outputs": []
    },
    {
      "cell_type": "code",
      "source": [
        "def find_min(lst, minima_list , i, j):\n",
        "  start_block = int(i/b)\n",
        "  end_block = int(j/b)\n",
        "\n",
        "  i_complete_fit = False\n",
        "  j_complete_fit = False\n",
        "\n",
        "  if i == b * start_block:\n",
        "    first_whole_block = start_block\n",
        "    i_complete_fit = True\n",
        "  else:\n",
        "    first_whole_block = start_block + 1\n",
        "\n",
        "  if j == (b * (end_block+1)) -1:\n",
        "    last_whole_block = end_block\n",
        "    j_complete_fit = True\n",
        "  else:\n",
        "    last_whole_block = end_block - 1\n",
        "\n",
        "  min_value = min(minima_list[first_whole_block:last_whole_block+1])\n",
        "\n",
        "  if not i_complete_fit:\n",
        "    before_min = min(lst[i:b * (start_block+1)])\n",
        "    min_value = min(min_value, before_min)\n",
        "\n",
        "  if not j_complete_fit:\n",
        "    after_min = min(lst[b*end_block:j+1])\n",
        "    min_value = min(min_value, after_min)\n",
        "\n",
        "  return min_value\n"
      ],
      "metadata": {
        "id": "CkS4um6gyLTK"
      },
      "execution_count": null,
      "outputs": []
    },
    {
      "cell_type": "code",
      "source": [
        "import numpy as np\n",
        "import random\n",
        "import gc\n",
        "import time\n",
        "\n",
        "lst = np.random.randint(low = 1,high=1000,size=2**16)\n",
        "n = len(lst)\n",
        "\n",
        "b = 256\n",
        "minima_list = []\n",
        "\n",
        "s_time = time.time()\n",
        "for i in range(0, n, b):\n",
        "  # minima = min(lst[i:i+b])\n",
        "  minima = sparse_table(lst[i:i+b], 0, b-1)\n",
        "  minima_list.append(minima)\n",
        "\n",
        "e_time = time.time()\n",
        "\n",
        "print(\"preprocess time:\", (e_time - s_time))\n",
        "\n",
        "start_time = time.time()\n",
        "min_val = find_min(lst , minima_list, i = 0, j = 34000)\n",
        "end_time = time.time()\n",
        "\n",
        "print(\"query time: \", (end_time - start_time))\n",
        "\n",
        "print(\"minimum_value:\", min_val)"
      ],
      "metadata": {
        "colab": {
          "base_uri": "https://localhost:8080/"
        },
        "id": "Z7nJaUXl0bPF",
        "outputId": "9571064d-57c5-4743-8eca-202ebb43ef02"
      },
      "execution_count": null,
      "outputs": [
        {
          "output_type": "stream",
          "name": "stdout",
          "text": [
            "preprocess time: 0.3100755214691162\n",
            "query time:  0.00017976760864257812\n",
            "minimum_value: 1\n"
          ]
        }
      ]
    },
    {
      "cell_type": "code",
      "source": [
        "class Node:\n",
        "    def __init__(self, value):\n",
        "        self.value = value\n",
        "        self.left = None\n",
        "        self.right = None\n",
        "\n",
        "def build_cartesian_tree(arr):\n",
        "    if not arr:\n",
        "        return None\n",
        "    # Finding the index of the minimum element\n",
        "    min_index = min(range(len(arr)), key=arr.__getitem__)\n",
        "    node = Node(arr[min_index])\n",
        "    node.left = build_cartesian_tree(arr[:min_index])\n",
        "    node.right = build_cartesian_tree(arr[min_index + 1:])\n",
        "    return node\n",
        "\n",
        "def rmq_preprocessing(root):\n",
        "    # Perform a DFS and store the indices of values for future queries\n",
        "    # Flatten the Cartesian Tree in a list while recording indices in order\n",
        "    order = []\n",
        "    indices = []\n",
        "\n",
        "    def dfs(node):\n",
        "        if not node:\n",
        "            return\n",
        "        order.append(node.value)\n",
        "        indices.append(arr.index(node.value))  # Store the original index\n",
        "        dfs(node.left)\n",
        "        dfs(node.right)\n",
        "\n",
        "    dfs(root)\n",
        "    return order, indices\n",
        "\n",
        "def query_rmq(l, r, arr, order, indices):\n",
        "    # Find the minimum in the range [l, r]\n",
        "    min_value = float('inf')\n",
        "    min_index = -1\n",
        "    for i in range(l, r + 1):\n",
        "        if arr[i] < min_value:\n",
        "            min_value = arr[i]\n",
        "            min_index = i\n",
        "    return min_value, min_index\n",
        "\n",
        "# Example of using the Cartesian Tree for RMQ\n",
        "if __name__ == \"__main__\":\n",
        "    arr = [3, 2, 1, 4, 5]\n",
        "\n",
        "    # Step 1: Build the Cartesian Tree\n",
        "    cartesian_tree_root = build_cartesian_tree(arr)\n",
        "\n",
        "    # Step 2: Preprocess the tree for RMQ\n",
        "    order, indices = rmq_preprocessing(cartesian_tree_root)\n",
        "\n",
        "    # Step 3: Perform RMQ\n",
        "    l = 1  # Left index of the query\n",
        "    r = 3  # Right index of the query\n",
        "    min_value, min_index = query_rmq(l, r, arr, order, indices)\n",
        "\n",
        "    print(f\"Minimum value in range [{l}, {r}] is: {min_value} at index {min_index}\")\n"
      ],
      "metadata": {
        "id": "kj1u6qeEsmN3",
        "outputId": "d0997ff9-d9e5-4512-8e20-29d2410a65a6",
        "colab": {
          "base_uri": "https://localhost:8080/"
        }
      },
      "execution_count": null,
      "outputs": [
        {
          "output_type": "stream",
          "name": "stdout",
          "text": [
            "Minimum value in range [1, 3] is: 1 at index 2\n"
          ]
        }
      ]
    },
    {
      "cell_type": "code",
      "source": [
        "print(order)\n",
        "print(indices)"
      ],
      "metadata": {
        "colab": {
          "base_uri": "https://localhost:8080/"
        },
        "id": "CsQERTcCuJb5",
        "outputId": "c40d54a0-2b5b-43c1-c781-003fa5aa745b"
      },
      "execution_count": null,
      "outputs": [
        {
          "output_type": "stream",
          "name": "stdout",
          "text": [
            "[1, 2, 3, 4, 5]\n",
            "[2, 1, 0, 3, 4]\n"
          ]
        }
      ]
    },
    {
      "cell_type": "markdown",
      "source": [
        "# Fischer-Heun"
      ],
      "metadata": {
        "id": "wWv6YqZoRDQc"
      }
    },
    {
      "cell_type": "code",
      "source": [
        "def sparse_table(arr, L, R):\n",
        "  n = len(arr)\n",
        "  # Compute the log values\n",
        "  log = [0] * (n + 1)\n",
        "  for i in range(2, n + 1):\n",
        "      log[i] = log[i // 2] + 1\n",
        "\n",
        "  # Initialize Sparse Table\n",
        "  K = log[n] + 1  # Maximum j\n",
        "  st = [[0] * K for _ in range(n)]\n",
        "\n",
        "  # Fill the first column of Sparse Table\n",
        "  for i in range(n):\n",
        "      st[i][0] = arr[i]\n",
        "\n",
        "  # Fill the Sparse Table\n",
        "  for j in range(1, K):\n",
        "      i = 0\n",
        "      while i + (1 << j) - 1 < n:\n",
        "          st[i][j] = min(st[i][j - 1], st[i + (1 << (j - 1))][j - 1])\n",
        "          i += 1\n",
        "\n",
        "  j = log[R - L + 1]\n",
        "  return min(st[L][j], st[R - (1 << j) + 1][j])"
      ],
      "metadata": {
        "id": "R92Og4odSNnB"
      },
      "execution_count": null,
      "outputs": []
    },
    {
      "cell_type": "code",
      "source": [
        "class Node:\n",
        "    def __init__(self, value):\n",
        "        self.value = value\n",
        "        self.left = None\n",
        "        self.right = None\n",
        "\n",
        "def build_cartesian_tree(arr):\n",
        "    if not arr:\n",
        "        return None\n",
        "    # Finding the index of the minimum element\n",
        "    min_index = min(range(len(arr)), key=arr.__getitem__)\n",
        "    node = Node(arr[min_index])\n",
        "    node.left = build_cartesian_tree(arr[:min_index])\n",
        "    node.right = build_cartesian_tree(arr[min_index + 1:])\n",
        "    return node\n",
        "\n",
        "def rmq_preprocessing(root):\n",
        "    # Perform a DFS and store the indices of values for future queries\n",
        "    # Flatten the Cartesian Tree in a list while recording indices in order\n",
        "    order = []\n",
        "    indices = []\n",
        "\n",
        "    def dfs(node):\n",
        "        if not node:\n",
        "            return\n",
        "        order.append(node.value)\n",
        "        indices.append(arr.index(node.value))  # Store the original index\n",
        "        dfs(node.left)\n",
        "        dfs(node.right)\n",
        "\n",
        "    dfs(root)\n",
        "    return order, indices\n",
        "\n",
        "# def query_rmq(l, r, arr, order, indices):\n",
        "#     # Find the minimum in the range [l, r]\n",
        "#     min_value = float('inf')\n",
        "#     min_index = -1\n",
        "#     for i in range(l, r + 1):\n",
        "#         if arr[i] < min_value:\n",
        "#             min_value = arr[i]\n",
        "#             min_index = i\n",
        "#     # return min_value, min_index\n",
        "#     return min_index\n",
        "\n",
        "# Example of using the Cartesian Tree for RMQ\n",
        "# if __name__ == \"__main__\":\n",
        "#     # arr = [3, 2, 1, 4, 5]\n",
        "\n",
        "#     tree_dict = {}\n",
        "#     total_dict = {}\n",
        "\n",
        "#     block_num = 0\n",
        "#     for i in range(0, n, b):\n",
        "#       block = lst[i:i+b]\n",
        "#       found = False\n",
        "#       cartesian_tree_root = build_cartesian_tree(block)\n",
        "#       indices = rmq_preprocessing(cartesian_tree_root)\n",
        "#       for key, value in tree_dict.items():\n",
        "#         if indices == value:\n",
        "#           total_dict[block_num] = total_dict[key]\n",
        "#           found = True\n",
        "#           break\n",
        "#       if not found:\n",
        "#         tree_dict[block_num] = indices\n",
        "#         matrix = [[0 for _ in range(n)] for _ in range(n)]\n",
        "#         for i in range(n):\n",
        "#             matrix[i][i] = lst[i]\n",
        "\n",
        "#         arr = np.array(matrix, dtype=np.int8)\n",
        "\n",
        "#         n_rows, n_cols = arr.shape\n",
        "\n",
        "#         for offset in range(1, n_cols):\n",
        "#             # gc.collect()\n",
        "#             indices = np.diag_indices(min(n_rows, n_cols - offset))  # Get diagonal indices\n",
        "#             diagonal_indices = [(i, j + offset) for i, j in zip(*indices)]\n",
        "#             # del indices\n",
        "\n",
        "#             for each in diagonal_indices:\n",
        "#                 # gc.collect()\n",
        "#                 row_number = each[0]\n",
        "#                 col_number = each[1]\n",
        "#                 x = arr[row_number, col_number-1]\n",
        "#                 y = arr[row_number+1, col_number]\n",
        "#                 arr[each[0], each[1]] = min(x, y)\n",
        "\n",
        "\n",
        "#         total_dict[block_num] = matrix\n",
        "\n",
        "\n",
        "\n",
        "    # # Step 1: Build the Cartesian Tree\n",
        "    # cartesian_tree_root = build_cartesian_tree(arr)\n",
        "\n",
        "    # # Step 2: Preprocess the tree for RMQ\n",
        "    # order, indices = rmq_preprocessing(cartesian_tree_root)\n",
        "\n",
        "    # # Step 3: Perform RMQ\n",
        "    # l = 1  # Left index of the query\n",
        "    # r = 3  # Right index of the query\n",
        "    # # min_value, min_index = query_rmq(l, r, arr, order, indices)\n",
        "    # min_index = query_rmq(l, r, arr, order, indices)\n",
        "\n",
        "    # # print(f\"Minimum value in range [{l}, {r}] is: {min_value} at index {min_index}\")\n",
        "\n"
      ],
      "metadata": {
        "id": "ZmbFqnJtT2Rj"
      },
      "execution_count": null,
      "outputs": []
    },
    {
      "cell_type": "code",
      "source": [],
      "metadata": {
        "id": "sUmF7kbtUIp0"
      },
      "execution_count": null,
      "outputs": []
    },
    {
      "cell_type": "code",
      "source": [
        "def find_min(lst, minima_list , i, j):\n",
        "  start_block = int(i/b)\n",
        "  end_block = int(j/b)\n",
        "\n",
        "  i_complete_fit = False\n",
        "  j_complete_fit = False\n",
        "\n",
        "  if i == b * start_block:\n",
        "    first_whole_block = start_block\n",
        "    i_complete_fit = True\n",
        "  else:\n",
        "    first_whole_block = start_block + 1\n",
        "\n",
        "  if j == (b * (end_block+1)) -1:\n",
        "    last_whole_block = end_block\n",
        "    j_complete_fit = True\n",
        "  else:\n",
        "    last_whole_block = end_block - 1\n",
        "\n",
        "  # min_value = min(minima_list[first_whole_block:last_whole_block+1])\n",
        "  min_value = sparse_table(lst[i:i+b], 0, b-1)\n",
        "\n",
        "  if not i_complete_fit:\n",
        "    # first = i - (start_block * 4)\n",
        "    # last = 3\n",
        "    # before_min = total_dict[start_block][first, last]\n",
        "    before_min = min(lst[i:b * (start_block+1)])\n",
        "    min_value = min(min_value, before_min)\n",
        "\n",
        "  if not j_complete_fit:\n",
        "    # first = 0\n",
        "    # last = j - (end_block * 4)\n",
        "    # after_min = total_dict[end_block][first, last]\n",
        "    after_min = min(lst[b*end_block:j+1])\n",
        "    min_value = min(min_value, after_min)\n",
        "\n",
        "  return min_value\n"
      ],
      "metadata": {
        "id": "BGMhd_dBRI3V"
      },
      "execution_count": null,
      "outputs": []
    },
    {
      "cell_type": "code",
      "source": [
        "import numpy as np\n",
        "import random\n",
        "import gc\n",
        "import time\n",
        "\n",
        "lst = np.random.randint(low = 1,high=1000,size=2**16)\n",
        "n = len(lst)\n",
        "\n",
        "b = 4\n",
        "minima_list = []\n",
        "\n",
        "s_time = time.time()\n",
        "for i in range(0, n, b):\n",
        "  minima = min(lst[i:i+b])\n",
        "  minima_list.append(minima)\n",
        "\n",
        "tree_dict = {}\n",
        "total_dict = {}\n",
        "\n",
        "block_num = 0\n",
        "# for i in range(0, n, b):\n",
        "#   block = lst[i:i+b].tolist()\n",
        "#   found = False\n",
        "#   print(block)\n",
        "#   print('iiiiiiiiiiiiiiiiiii')\n",
        "#   cartesian_tree_root = build_cartesian_tree(block)\n",
        "#   indices = rmq_preprocessing(cartesian_tree_root)\n",
        "#   for key, value in tree_dict.items():\n",
        "#     if indices == value:\n",
        "#       total_dict[block_num] = total_dict[key]\n",
        "#       found = True\n",
        "#       break\n",
        "#   if not found:\n",
        "#     tree_dict[block_num] = indices\n",
        "#     matrix = [[0 for _ in range(n)] for _ in range(n)]\n",
        "#     for i in range(n):\n",
        "#         matrix[i][i] = lst[i]\n",
        "\n",
        "#     arr = np.array(matrix, dtype=np.int8)\n",
        "\n",
        "#     n_rows, n_cols = arr.shape\n",
        "\n",
        "#     for offset in range(1, n_cols):\n",
        "#         # gc.collect()\n",
        "#         indices = np.diag_indices(min(n_rows, n_cols - offset))  # Get diagonal indices\n",
        "#         diagonal_indices = [(i, j + offset) for i, j in zip(*indices)]\n",
        "#         # del indices\n",
        "\n",
        "#         for each in diagonal_indices:\n",
        "#             # gc.collect()\n",
        "#             row_number = each[0]\n",
        "#             col_number = each[1]\n",
        "#             x = arr[row_number, col_number-1]\n",
        "#             y = arr[row_number+1, col_number]\n",
        "#             arr[each[0], each[1]] = min(x, y)\n",
        "\n",
        "\n",
        "#     total_dict[block_num] = matrix\n",
        "\n",
        "\n",
        "e_time = time.time()\n",
        "\n",
        "print(\"preprocess time:\", (e_time - s_time))\n",
        "\n",
        "start_time = time.time()\n",
        "min_val = find_min(lst , minima_list, i = 0, j = 34000)\n",
        "end_time = time.time()\n",
        "\n",
        "print(\"query time: \", (end_time - start_time))\n"
      ],
      "metadata": {
        "colab": {
          "base_uri": "https://localhost:8080/"
        },
        "id": "yBsJIAk8uxJE",
        "outputId": "ebf6c00f-99ec-412c-db37-68e7c249399d"
      },
      "execution_count": null,
      "outputs": [
        {
          "output_type": "stream",
          "name": "stdout",
          "text": [
            "preprocess time: 0.030535459518432617\n",
            "query time:  0.00010824203491210938\n"
          ]
        }
      ]
    }
  ]
}